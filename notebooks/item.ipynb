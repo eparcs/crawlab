{
 "cells": [
  {
   "cell_type": "code",
   "execution_count": 1,
   "metadata": {},
   "outputs": [],
   "source": [
    "import datetime\n",
    "import scrapy\n",
    "from crawlab.crawlab import CrawLab\n",
    "\n",
    "sl = CrawLab.create()"
   ]
  },
  {
   "cell_type": "code",
   "execution_count": 5,
   "metadata": {},
   "outputs": [
    {
     "data": {
      "text/plain": [
       "HTML(value=\"<style>/* common */\\n.mark-water{\\n    color:#bbb;\\n}\\n/* eof common */\\n\\n/* node */\\n.node-conte…"
      ]
     },
     "metadata": {},
     "output_type": "display_data"
    },
    {
     "data": {
      "text/plain": [
       "JsonWidget(data={'value': 'some value', 'nested': {'ls': {'items': [{'x': 0, 'y': 0}]}, 'item': 'str'}, 'date'…"
      ]
     },
     "metadata": {},
     "output_type": "display_data"
    }
   ],
   "source": [
    "class SomeItem(scrapy.Item):\n",
    "    value = scrapy.Field()\n",
    "    date = scrapy.Field()\n",
    "    nums = scrapy.Field()\n",
    "    nested = scrapy.Field()\n",
    "    \n",
    "SomeItem(\n",
    "    value='some value', \n",
    "    date=datetime.datetime.now(), \n",
    "    nums=[1,2,3,4,5], \n",
    "    nested={'item': 'str', 'ls': {'items': [{'x': 0, 'y': 0}]}}\n",
    ")"
   ]
  }
 ],
 "metadata": {
  "kernelspec": {
   "display_name": "Python 3",
   "language": "python",
   "name": "python3"
  },
  "language_info": {
   "codemirror_mode": {
    "name": "ipython",
    "version": 3.0
   },
   "file_extension": ".py",
   "mimetype": "text/x-python",
   "name": "python",
   "nbconvert_exporter": "python",
   "pygments_lexer": "ipython3",
   "version": "3.5.2"
  },
  "toc": {
   "base_numbering": 1.0,
   "nav_menu": {},
   "number_sections": false,
   "sideBar": false,
   "skip_h1_title": false,
   "title_cell": "Table of Contents",
   "title_sidebar": "Contents",
   "toc_cell": false,
   "toc_position": {},
   "toc_section_display": false,
   "toc_window_display": false
  }
 },
 "nbformat": 4,
 "nbformat_minor": 0
}