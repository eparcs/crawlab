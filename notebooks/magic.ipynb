{
 "cells": [
  {
   "cell_type": "code",
   "execution_count": 1,
   "metadata": {},
   "outputs": [],
   "source": [
    "%load_ext crawlab"
   ]
  },
  {
   "cell_type": "code",
   "execution_count": 2,
   "metadata": {},
   "outputs": [],
   "source": [
    "import scrapy"
   ]
  },
  {
   "cell_type": "code",
   "execution_count": 3,
   "metadata": {},
   "outputs": [
    {
     "data": {
      "application/vnd.jupyter.widget-view+json": {
       "model_id": "93261f1956d44c6b9c798f1ddf66948c",
       "version_major": 2,
       "version_minor": 0
      },
      "text/plain": [
       "ResponseWidget(children=(BrowserWidget(srcdoc='&lt;!doctype html&gt;&lt;html itemscope=&quot;&quot; itemtype=&…"
      ]
     },
     "metadata": {},
     "output_type": "display_data"
    }
   ],
   "source": [
    "%fetch https://www.google.com.br"
   ]
  },
  {
   "cell_type": "code",
   "execution_count": 4,
   "metadata": {},
   "outputs": [
    {
     "data": {
      "application/vnd.jupyter.widget-view+json": {
       "model_id": "c1c579ce5d3d49ec870f1a037657bd7a",
       "version_major": 2,
       "version_minor": 0
      },
      "text/plain": [
       "HTML(value=\"<style>\\n            .mark-water{\\n                color:#bbb;\\n            }\\n            .node-c…"
      ]
     },
     "metadata": {},
     "output_type": "display_data"
    },
    {
     "data": {
      "application/vnd.jupyter.widget-view+json": {
       "model_id": "d6fc0b47a12646f9ba58d37f8960aac3",
       "version_major": 2,
       "version_minor": 0
      },
      "text/plain": [
       "JsonWidget(data={'titulo': 'Google', 'assuntos': ['<a class=\"gb1\" href=\"https://www.google.com.br/imghp?hl=pt-…"
      ]
     },
     "metadata": {},
     "output_type": "display_data"
    }
   ],
   "source": [
    "%xpath //a > assuntos\n",
    "%xpath //title/text() > titulo\n",
    "%xpath //b/text() > importante\n",
    "\n",
    "%item titulo=titulo.extract_first(), importante=importante.extract_first(), assuntos=assuntos.extract()"
   ]
  }
 ],
 "metadata": {
  "kernelspec": {
   "display_name": "Python 3",
   "language": "python",
   "name": "python3"
  },
  "language_info": {
   "codemirror_mode": {
    "name": "ipython",
    "version": 3
   },
   "file_extension": ".py",
   "mimetype": "text/x-python",
   "name": "python",
   "nbconvert_exporter": "python",
   "pygments_lexer": "ipython3",
   "version": "3.5.2"
  },
  "toc": {
   "base_numbering": 1,
   "nav_menu": {},
   "number_sections": false,
   "sideBar": false,
   "skip_h1_title": false,
   "title_cell": "Table of Contents",
   "title_sidebar": "Contents",
   "toc_cell": false,
   "toc_position": {},
   "toc_section_display": false,
   "toc_window_display": false
  }
 },
 "nbformat": 4,
 "nbformat_minor": 2
}
