{
 "cells": [
  {
   "cell_type": "code",
   "execution_count": 22,
   "metadata": {},
   "outputs": [
    {
     "data": {
      "text/plain": [
       "'<!DOCTYPE html PUBLIC \"-//W3C//DTD HTML 4.01//EN\"\\n   \"http://www.w3.org/TR/html4/strict.dtd\">\\n\\n<html>\\n<head>\\n  <title></title>\\n  <meta http-equiv=\"content-type\" content=\"text/html; charset=None\">\\n  <style type=\"text/css\">\\ntd.linenos { background-color: #f0f0f0; padding-right: 10px; }\\nspan.lineno { background-color: #f0f0f0; padding: 0 5px 0 5px; }\\npre { line-height: 125%; }\\nbody .hll { background-color: #ffffcc }\\nbody  { background: #f8f8f8; }\\nbody .c { color: #408080; font-style: italic } /* Comment */\\nbody .err { border: 1px solid #FF0000 } /* Error */\\nbody .k { color: #008000; font-weight: bold } /* Keyword */\\nbody .o { color: #666666 } /* Operator */\\nbody .ch { color: #408080; font-style: italic } /* Comment.Hashbang */\\nbody .cm { color: #408080; font-style: italic } /* Comment.Multiline */\\nbody .cp { color: #BC7A00 } /* Comment.Preproc */\\nbody .cpf { color: #408080; font-style: italic } /* Comment.PreprocFile */\\nbody .c1 { color: #408080; font-style: italic } /* Comment.Single */\\nbody .cs { color: #408080; font-style: italic } /* Comment.Special */\\nbody .gd { color: #A00000 } /* Generic.Deleted */\\nbody .ge { font-style: italic } /* Generic.Emph */\\nbody .gr { color: #FF0000 } /* Generic.Error */\\nbody .gh { color: #000080; font-weight: bold } /* Generic.Heading */\\nbody .gi { color: #00A000 } /* Generic.Inserted */\\nbody .go { color: #888888 } /* Generic.Output */\\nbody .gp { color: #000080; font-weight: bold } /* Generic.Prompt */\\nbody .gs { font-weight: bold } /* Generic.Strong */\\nbody .gu { color: #800080; font-weight: bold } /* Generic.Subheading */\\nbody .gt { color: #0044DD } /* Generic.Traceback */\\nbody .kc { color: #008000; font-weight: bold } /* Keyword.Constant */\\nbody .kd { color: #008000; font-weight: bold } /* Keyword.Declaration */\\nbody .kn { color: #008000; font-weight: bold } /* Keyword.Namespace */\\nbody .kp { color: #008000 } /* Keyword.Pseudo */\\nbody .kr { color: #008000; font-weight: bold } /* Keyword.Reserved */\\nbody .kt { color: #B00040 } /* Keyword.Type */\\nbody .m { color: #666666 } /* Literal.Number */\\nbody .s { color: #BA2121 } /* Literal.String */\\nbody .na { color: #7D9029 } /* Name.Attribute */\\nbody .nb { color: #008000 } /* Name.Builtin */\\nbody .nc { color: #0000FF; font-weight: bold } /* Name.Class */\\nbody .no { color: #880000 } /* Name.Constant */\\nbody .nd { color: #AA22FF } /* Name.Decorator */\\nbody .ni { color: #999999; font-weight: bold } /* Name.Entity */\\nbody .ne { color: #D2413A; font-weight: bold } /* Name.Exception */\\nbody .nf { color: #0000FF } /* Name.Function */\\nbody .nl { color: #A0A000 } /* Name.Label */\\nbody .nn { color: #0000FF; font-weight: bold } /* Name.Namespace */\\nbody .nt { color: #008000; font-weight: bold } /* Name.Tag */\\nbody .nv { color: #19177C } /* Name.Variable */\\nbody .ow { color: #AA22FF; font-weight: bold } /* Operator.Word */\\nbody .w { color: #bbbbbb } /* Text.Whitespace */\\nbody .mb { color: #666666 } /* Literal.Number.Bin */\\nbody .mf { color: #666666 } /* Literal.Number.Float */\\nbody .mh { color: #666666 } /* Literal.Number.Hex */\\nbody .mi { color: #666666 } /* Literal.Number.Integer */\\nbody .mo { color: #666666 } /* Literal.Number.Oct */\\nbody .sa { color: #BA2121 } /* Literal.String.Affix */\\nbody .sb { color: #BA2121 } /* Literal.String.Backtick */\\nbody .sc { color: #BA2121 } /* Literal.String.Char */\\nbody .dl { color: #BA2121 } /* Literal.String.Delimiter */\\nbody .sd { color: #BA2121; font-style: italic } /* Literal.String.Doc */\\nbody .s2 { color: #BA2121 } /* Literal.String.Double */\\nbody .se { color: #BB6622; font-weight: bold } /* Literal.String.Escape */\\nbody .sh { color: #BA2121 } /* Literal.String.Heredoc */\\nbody .si { color: #BB6688; font-weight: bold } /* Literal.String.Interpol */\\nbody .sx { color: #008000 } /* Literal.String.Other */\\nbody .sr { color: #BB6688 } /* Literal.String.Regex */\\nbody .s1 { color: #BA2121 } /* Literal.String.Single */\\nbody .ss { color: #19177C } /* Literal.String.Symbol */\\nbody .bp { color: #008000 } /* Name.Builtin.Pseudo */\\nbody .fm { color: #0000FF } /* Name.Function.Magic */\\nbody .vc { color: #19177C } /* Name.Variable.Class */\\nbody .vg { color: #19177C } /* Name.Variable.Global */\\nbody .vi { color: #19177C } /* Name.Variable.Instance */\\nbody .vm { color: #19177C } /* Name.Variable.Magic */\\nbody .il { color: #666666 } /* Literal.Number.Integer.Long */\\n\\n  </style>\\n</head>\\n<body>\\n<h2></h2>\\n\\n<div class=\"pygments-21b3fe5f-b84c-46ea-94d6-d5f763d4df18\"><pre><span></span>    <span class=\"p\">&lt;</span><span class=\"nt\">body</span><span class=\"p\">&gt;</span>\\n        <span class=\"p\">&lt;</span><span class=\"nt\">div</span><span class=\"p\">&gt;</span>teste div<span class=\"p\">&lt;/</span><span class=\"nt\">div</span><span class=\"p\">&gt;</span>\\n        <mark style=\"background-color: yellow;\"><span class=\"p\">&lt;</span><span class=\"nt\">b</span><span class=\"p\">&gt;</span>importante<span class=\"p\">&lt;/</span><span class=\"nt\">b</span><span class=\"p\">&gt;</span></mark>\\n        <span class=\"p\">&lt;</span><span class=\"nt\">a</span><span class=\"p\">&gt;</span>test link<span class=\"p\">&lt;/</span><span class=\"nt\">a</span><span class=\"p\">&gt;</span>\\n        <mark style=\"background-color: yellow;\"><span class=\"p\">&lt;</span><span class=\"nt\">b</span><span class=\"p\">&gt;</span>importante<span class=\"p\">&lt;/</span><span class=\"nt\">b</span><span class=\"p\">&gt;</span></mark>\\n    <span class=\"p\">&lt;/</span><span class=\"nt\">body</span><span class=\"p\">&gt;</span>\\n</pre></div>\\n</body>\\n</html>\\n'"
      ]
     },
     "execution_count": 22,
     "metadata": {},
     "output_type": "execute_result"
    }
   ],
   "source": [
    "from scrapydo import utils\n",
    "from ipywidgets import HTML\n",
    "import IPython.display\n",
    "from IPython.display import display\n",
    "import pygments\n",
    "from pygments.lexers import HtmlLexer\n",
    "from pygments.filters import NameHighlightFilter, CodeTagFilter\n",
    "from pygments.token import Token\n",
    "\n",
    "html = \"\"\"\n",
    "    <body>\n",
    "        <div>teste div</div>\n",
    "        {mark}<b>importante</b>{/mark}\n",
    "        <a>test link</a>\n",
    "        {mark}<b>importante</b>{/mark}\n",
    "    </body>\n",
    "\"\"\"\n",
    "highlight_html = utils.highlight(html, output_wrapper=str)\n",
    "highlight_html = highlight_html\\\n",
    "        .replace('{mark}', '<mark style=\"background-color: yellow;\">')\\\n",
    "        .replace('{/mark}', '</mark>')\n",
    "highlight_html"
   ]
  },
  {
   "cell_type": "code",
   "execution_count": null,
   "metadata": {},
   "outputs": [],
   "source": []
  }
 ],
 "metadata": {
  "kernelspec": {
   "display_name": "Python 3",
   "language": "python",
   "name": "python3"
  },
  "language_info": {
   "codemirror_mode": {
    "name": "ipython",
    "version": 3
   },
   "file_extension": ".py",
   "mimetype": "text/x-python",
   "name": "python",
   "nbconvert_exporter": "python",
   "pygments_lexer": "ipython3",
   "version": "3.5.2"
  }
 },
 "nbformat": 4,
 "nbformat_minor": 2
}
